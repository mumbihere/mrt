{
 "cells": [
  {
   "cell_type": "markdown",
   "metadata": {},
   "source": [
    "## Hypothesis Testing\n",
    "\n",
    "H0: Similarity between benchmark/original set of passthought and successive pass-thoughts increases with positive feedback  compared to negative feedback\n",
    "across all fft channels"
   ]
  },
  {
   "cell_type": "code",
   "execution_count": 1,
   "metadata": {
    "collapsed": true
   },
   "outputs": [],
   "source": [
    "%matplotlib inline \n",
    "#Importations\n",
    "import pandas as pd\n",
    "import matplotlib.pyplot as plt\n",
    "from sklearn.metrics.pairwise import cosine_similarity\n",
    "import numpy as np\n",
    "from scipy.spatial import distance\n"
   ]
  },
  {
   "cell_type": "code",
   "execution_count": 2,
   "metadata": {
    "collapsed": true
   },
   "outputs": [],
   "source": [
    "#Variables\n",
    "folder = \"../../data_mrt/\"\n",
    "files = ['always_accept_1.csv','always_accept_2.csv','always_accept_3.csv','always_accept_4.csv',\n",
    "        'always_reject_1.csv','always_reject_2.csv','always_reject_3.csv','always_reject_4.csv',]\n",
    "data = []\n",
    "times = []\n",
    "experiment_stages = ['calibration','set_passthought','authenticate'] # This experiment had 3 stages,  \n",
    "steps = [1,3,4] #Calibration has 1 step, set_passthought has 3 and auth has 4\n",
    "passthougt_duration = 8 #passthought last 8 seconds\n",
    "conditions = []\n",
    "substeps = []\n",
    "markers = [' /Marker/BLINK',\n",
    "           ' /Marker/CalibrationComplete', \n",
    "           ' /Marker/ThinkPassthought',\n",
    "           ' /Marker/BLANK',\n",
    "           ' /Marker/YouhavesuccessfullysetyourPassthought',\n",
    "           ' /Marker/ThinkPassthoughttoAunthenticate', \n",
    "           ' /Marker/Classifying',\n",
    "           ' /Marker/AuthenticationSuccessful',\n",
    "           ' /Marker/AuthenticationFailed'\n",
    "       ]\n",
    "ffts = [' /muse/elements/raw_fft0',' /muse/elements/raw_fft1',\n",
    "        ' /muse/elements/raw_fft2',' /muse/elements/raw_fft3']\n",
    "\n",
    "stages, allsteps, start, end, raw_fft,fft_type,subjects,alldata =[],[],[],[],[],[],[],[]\n"
   ]
  },
  {
   "cell_type": "code",
   "execution_count": 3,
   "metadata": {
    "collapsed": false
   },
   "outputs": [
    {
     "name": "stdout",
     "output_type": "stream",
     "text": [
      "Appending file :  always_accept_1.csv\n",
      "Appending file :  always_accept_2.csv\n"
     ]
    },
    {
     "name": "stderr",
     "output_type": "stream",
     "text": [
      "//anaconda/lib/python3.5/site-packages/IPython/core/interactiveshell.py:2698: DtypeWarning: Columns (6,7,10,11,12,13,14,15,16,17,18,19,20,21,22,23,24,25,26,27,28,29,30,31) have mixed types. Specify dtype option on import or set low_memory=False.\n",
      "  interactivity=interactivity, compiler=compiler, result=result)\n"
     ]
    },
    {
     "name": "stdout",
     "output_type": "stream",
     "text": [
      "Appending file :  always_accept_3.csv\n",
      "Appending file :  always_accept_4.csv\n"
     ]
    },
    {
     "name": "stderr",
     "output_type": "stream",
     "text": [
      "//anaconda/lib/python3.5/site-packages/IPython/core/interactiveshell.py:2698: DtypeWarning: Columns (2,3,4,5,6,7,10,11,12,13,14,15,16,17,18,19,20,21,22,23,24,25,26,27,28,29,30,31) have mixed types. Specify dtype option on import or set low_memory=False.\n",
      "  interactivity=interactivity, compiler=compiler, result=result)\n"
     ]
    },
    {
     "name": "stdout",
     "output_type": "stream",
     "text": [
      "Appending file :  always_reject_1.csv\n",
      "Appending file :  always_reject_2.csv\n",
      "Appending file :  always_reject_3.csv\n",
      "Appending file :  always_reject_4.csv\n"
     ]
    }
   ],
   "source": [
    "#Read data into pandas\n",
    "for file in files:\n",
    "    print(\"Appending file : \",file)\n",
    "    filedata = pd.read_csv(folder+file)\n",
    "    data.append(filedata)"
   ]
  },
  {
   "cell_type": "code",
   "execution_count": 4,
   "metadata": {
    "collapsed": false
   },
   "outputs": [],
   "source": [
    "#data[:5]"
   ]
  },
  {
   "cell_type": "code",
   "execution_count": 9,
   "metadata": {
    "collapsed": true
   },
   "outputs": [],
   "source": [
    "#Methods\n",
    "\n",
    "#Given two vectors this function returns the cosine similarity\n",
    "def cosine(X,Y):\n",
    "    dist = distance.cosine(X,Y)\n",
    "    return dist\n",
    "\n",
    "\n",
    "#Function that compares the cosine similarity between 2 groups\n",
    "def cos_compare(fft_type, step,subject):\n",
    "    #Set-Passthought will be our comparison session\n",
    "    #Select all fft segnals in that period and get the mean across all 129 \n",
    "    set_passthought_signals = df[(df['stage']=='set_passthought') \n",
    "                                 &(df['fft_type'] == ' /muse/elements/raw_fft1')\n",
    "                                 &(df['subject'] == subject)]['raw_fft']\n",
    "\n",
    "    #put mean signals from the 3 set passthought timeperiods into one dataframe\n",
    "    mylist = [x.applymap(float).mean(axis=0) for x in set_passthought_signals ] \n",
    "    dataframe = pd.DataFrame(data=mylist) #Convert the list to a dataframe\n",
    "    benchmark = dataframe.mean(axis=0) #Take the mean across the 3 sessions\n",
    "    benchmark.shape\n",
    "\n",
    "    \n",
    "    comparison_group = (df[(df['stage']==\"authenticate\") &(df['fft_type'] == fft_type) \n",
    "                           &(df['step'] == step) &(df['subject'] == subject)] )['raw_fft']\n",
    "    mylist2 = [x.applymap(float).mean(axis=0) for x in comparison_group ] \n",
    "    dataframe2 = pd.DataFrame(data=mylist2) #Convert the list to a dataframe\n",
    "    comparison_group = dataframe2.mean(axis=0) #Take the mean across the 3 sessions\n",
    "    comparison_group.shape\n",
    "    return cosine(benchmark,comparison_group)\n",
    "\n",
    "def get_markers(mydata):\n",
    "    my_dict = {}\n",
    "    always_accept=None\n",
    "    for marker in markers:\n",
    "        #extract the time when the marker was displayed\n",
    "        time = mydata.loc[mydata[\"task\"] == marker]['time']\n",
    "        #Save marker and times \n",
    "        #print(marker,list(time))\n",
    "        my_dict[marker] = list(time)\n",
    "        \n",
    "    if len(my_dict[' /Marker/BLANK'])>2:\n",
    "        my_dict[' /Marker/BLANK'] = my_dict[' /Marker/BLANK'][1:-1]\n",
    "        \n",
    "    #Decide which condition the user belongs to\n",
    "    if len(my_dict[' /Marker/AuthenticationSuccessful'])>0:\n",
    "        always_accept=1\n",
    "    if len(my_dict[' /Marker/AuthenticationFailed'])>0:\n",
    "        always_accept=0      \n",
    "\n",
    "    my_dict['set_passthought_marker'] = my_dict[' /Marker/BLANK'] + my_dict[' /Marker/YouhavesuccessfullysetyourPassthought']\n",
    "\n",
    "    return my_dict,always_accept\n",
    "\n",
    "\n",
    "def filtering(start_time,end_time,f,mydata):\n",
    "    filtered = mydata[(mydata[\"time\"] >= start_time) & (mydata[\"time\"] <= end_time)] #filter by time  \n",
    "    \n",
    "    filtered_fft =filtered[filtered[\"task\"]== f] #filter the relevant fft \n",
    "    fft= filtered_fft.iloc[:,2:131]#select the 129 fft columns from the 2nd one to the end\n",
    "    \n",
    "    return fft\n",
    "\n",
    "def append_elements(stage,s,fft,start_time,end_time,f,subject,condition,substep):\n",
    "    stages.append(stage)\n",
    "    allsteps.append(s)\n",
    "    raw_fft.append(fft)\n",
    "    start.append(start_time)\n",
    "    end.append(end_time)\n",
    "    fft_type.append(f)\n",
    "    subjects.append(subject)\n",
    "    conditions.append(condition)\n",
    "    substeps.append(substep)\n",
    "    \n",
    "def extract_fft(subjectID,results, mydata):\n",
    "    my_dict = results[0]\n",
    "    condition = results[1] #2nd tuple element is the condition-always accept or always reject\n",
    "    #extract all the fft signals for each stage\n",
    "    for stage in experiment_stages:\n",
    "        n_steps = steps[experiment_stages.index(stage)] #no of steps per stage\n",
    "        for s in range(n_steps):\n",
    "            for f in ffts:\n",
    "                if stage == \"calibration\":\n",
    "                    start_marker = ' /Marker/BLINK'\n",
    "                    end_marker = ' /Marker/CalibrationComplete'\n",
    "                    substep(stage,s,f,subjectID,condition,start_marker,end_marker,mydata,my_dict)\n",
    "                    \n",
    "                elif stage == \"set_passthought\":\n",
    "                    \n",
    "                    start_marker = ' /Marker/ThinkPassthought'\n",
    "                    end_marker = 'set_passthought_marker'\n",
    "                    substep(stage,s,f,subjectID,condition,start_marker,end_marker,mydata,my_dict)\n",
    "                    \n",
    "                elif stage == \"authenticate\":\n",
    "                    start_marker = ' /Marker/ThinkPassthoughttoAunthenticate'\n",
    "                    end_marker = ' /Marker/Classifying'\n",
    "                    substep(stage,s,f,subjectID,condition,start_marker,end_marker,mydata,my_dict)\n",
    "                    \n",
    "                else:\n",
    "                    print('Error!!!')\n",
    "                    \n",
    "no_of_substeps = 4\n",
    "increment = 2 #2seconds\n",
    "#Create a function that splits each step into substeps\n",
    "def substep(stage,s,f,subjectID,condition,start_marker,end_marker,mydata,my_dict):\n",
    "    if stage == \"authenticate\":\n",
    "        stage_start_time = my_dict[start_marker][s]\n",
    "        stage_end_time   = my_dict[end_marker][s]\n",
    "        for substep in range(no_of_substeps):       \n",
    "            start_time = stage_start_time +substep*increment\n",
    "            end_time = start_time+increment\n",
    "            fft = filtering(start_time,end_time,f,mydata)\n",
    "            append_elements(stage,s,fft,start_time,end_time,f,subjectID,condition,substep) \n",
    "    else:\n",
    "        substep=None\n",
    "        start_time = my_dict[start_marker][s]\n",
    "        end_time   = my_dict[end_marker][s]\n",
    "        fft = filtering(start_time,end_time,f,mydata)\n",
    "        append_elements(stage,s,fft,start_time,end_time,f,subjectID,condition,substep)"
   ]
  },
  {
   "cell_type": "code",
   "execution_count": 11,
   "metadata": {
    "collapsed": false
   },
   "outputs": [
    {
     "data": {
      "text/html": [
       "<div>\n",
       "<style>\n",
       "    .dataframe thead tr:only-child th {\n",
       "        text-align: right;\n",
       "    }\n",
       "\n",
       "    .dataframe thead th {\n",
       "        text-align: left;\n",
       "    }\n",
       "\n",
       "    .dataframe tbody tr th {\n",
       "        vertical-align: top;\n",
       "    }\n",
       "</style>\n",
       "<table border=\"1\" class=\"dataframe\">\n",
       "  <thead>\n",
       "    <tr style=\"text-align: right;\">\n",
       "      <th></th>\n",
       "      <th>stage</th>\n",
       "      <th>step</th>\n",
       "      <th>substep</th>\n",
       "      <th>fft_type</th>\n",
       "      <th>start</th>\n",
       "      <th>end</th>\n",
       "      <th>raw_fft</th>\n",
       "      <th>subject</th>\n",
       "      <th>conditions</th>\n",
       "    </tr>\n",
       "  </thead>\n",
       "  <tbody>\n",
       "    <tr>\n",
       "      <th>0</th>\n",
       "      <td>calibration</td>\n",
       "      <td>0</td>\n",
       "      <td>NaN</td>\n",
       "      <td>/muse/elements/raw_fft0</td>\n",
       "      <td>1515093498</td>\n",
       "      <td>1515093508</td>\n",
       "      <td>v1           v2          v3    ...</td>\n",
       "      <td>0</td>\n",
       "      <td>1</td>\n",
       "    </tr>\n",
       "    <tr>\n",
       "      <th>1</th>\n",
       "      <td>calibration</td>\n",
       "      <td>0</td>\n",
       "      <td>NaN</td>\n",
       "      <td>/muse/elements/raw_fft1</td>\n",
       "      <td>1515093498</td>\n",
       "      <td>1515093508</td>\n",
       "      <td>v1           v2            v3 ...</td>\n",
       "      <td>0</td>\n",
       "      <td>1</td>\n",
       "    </tr>\n",
       "    <tr>\n",
       "      <th>2</th>\n",
       "      <td>calibration</td>\n",
       "      <td>0</td>\n",
       "      <td>NaN</td>\n",
       "      <td>/muse/elements/raw_fft2</td>\n",
       "      <td>1515093498</td>\n",
       "      <td>1515093508</td>\n",
       "      <td>v1           v2           v3  ...</td>\n",
       "      <td>0</td>\n",
       "      <td>1</td>\n",
       "    </tr>\n",
       "    <tr>\n",
       "      <th>3</th>\n",
       "      <td>calibration</td>\n",
       "      <td>0</td>\n",
       "      <td>NaN</td>\n",
       "      <td>/muse/elements/raw_fft3</td>\n",
       "      <td>1515093498</td>\n",
       "      <td>1515093508</td>\n",
       "      <td>v1         v2           v3     ...</td>\n",
       "      <td>0</td>\n",
       "      <td>1</td>\n",
       "    </tr>\n",
       "    <tr>\n",
       "      <th>4</th>\n",
       "      <td>calibration</td>\n",
       "      <td>0</td>\n",
       "      <td>NaN</td>\n",
       "      <td>/muse/elements/raw_fft0</td>\n",
       "      <td>1515093498</td>\n",
       "      <td>1515093508</td>\n",
       "      <td>v1           v2          v3    ...</td>\n",
       "      <td>0</td>\n",
       "      <td>1</td>\n",
       "    </tr>\n",
       "  </tbody>\n",
       "</table>\n",
       "</div>"
      ],
      "text/plain": [
       "         stage  step  substep                  fft_type       start  \\\n",
       "0  calibration     0      NaN   /muse/elements/raw_fft0  1515093498   \n",
       "1  calibration     0      NaN   /muse/elements/raw_fft1  1515093498   \n",
       "2  calibration     0      NaN   /muse/elements/raw_fft2  1515093498   \n",
       "3  calibration     0      NaN   /muse/elements/raw_fft3  1515093498   \n",
       "4  calibration     0      NaN   /muse/elements/raw_fft0  1515093498   \n",
       "\n",
       "          end                                            raw_fft  subject  \\\n",
       "0  1515093508                 v1           v2          v3    ...        0   \n",
       "1  1515093508                  v1           v2            v3 ...        0   \n",
       "2  1515093508                  v1           v2           v3  ...        0   \n",
       "3  1515093508                 v1         v2           v3     ...        0   \n",
       "4  1515093508                 v1           v2          v3    ...        0   \n",
       "\n",
       "   conditions  \n",
       "0           1  \n",
       "1           1  \n",
       "2           1  \n",
       "3           1  \n",
       "4           1  "
      ]
     },
     "execution_count": 11,
     "metadata": {},
     "output_type": "execute_result"
    }
   ],
   "source": [
    "for subjectID in range(len(data)):\n",
    "    mydata=data[subjectID]\n",
    "    results = get_markers(mydata)\n",
    "    extract_fft(subjectID,results, mydata)\n",
    "\n",
    "    \n",
    "d = {'stage': stages, 'step': allsteps,'substep':substeps,\n",
    "     'start':start ,'end':end, \n",
    "     'fft_type':fft_type,'raw_fft':raw_fft,'subject':subjects,'conditions':conditions}\n",
    "\n",
    "df = pd.DataFrame(data=d, columns=['stage','step','substep','fft_type','start','end','raw_fft','subject','conditions'])\n",
    "df.head()   \n"
   ]
  },
  {
   "cell_type": "code",
   "execution_count": 13,
   "metadata": {
    "collapsed": false
   },
   "outputs": [],
   "source": [
    "#df['raw_fft'][0]"
   ]
  },
  {
   "cell_type": "code",
   "execution_count": 14,
   "metadata": {
    "collapsed": false
   },
   "outputs": [
    {
     "data": {
      "text/plain": [
       "(1284, 9)"
      ]
     },
     "execution_count": 14,
     "metadata": {},
     "output_type": "execute_result"
    }
   ],
   "source": [
    "df.shape"
   ]
  },
  {
   "cell_type": "code",
   "execution_count": 15,
   "metadata": {
    "collapsed": false
   },
   "outputs": [
    {
     "data": {
      "text/html": [
       "<div>\n",
       "<style>\n",
       "    .dataframe thead tr:only-child th {\n",
       "        text-align: right;\n",
       "    }\n",
       "\n",
       "    .dataframe thead th {\n",
       "        text-align: left;\n",
       "    }\n",
       "\n",
       "    .dataframe tbody tr th {\n",
       "        vertical-align: top;\n",
       "    }\n",
       "</style>\n",
       "<table border=\"1\" class=\"dataframe\">\n",
       "  <thead>\n",
       "    <tr style=\"text-align: right;\">\n",
       "      <th></th>\n",
       "      <th>stage</th>\n",
       "      <th>step</th>\n",
       "      <th>substep</th>\n",
       "      <th>fft_type</th>\n",
       "      <th>start</th>\n",
       "      <th>end</th>\n",
       "      <th>raw_fft</th>\n",
       "      <th>subject</th>\n",
       "      <th>conditions</th>\n",
       "    </tr>\n",
       "  </thead>\n",
       "  <tbody>\n",
       "    <tr>\n",
       "      <th>20</th>\n",
       "      <td>authenticate</td>\n",
       "      <td>0</td>\n",
       "      <td>0.0</td>\n",
       "      <td>/muse/elements/raw_fft0</td>\n",
       "      <td>1515093676</td>\n",
       "      <td>1515093678</td>\n",
       "      <td>v1         v2         v3      ...</td>\n",
       "      <td>0</td>\n",
       "      <td>1</td>\n",
       "    </tr>\n",
       "    <tr>\n",
       "      <th>21</th>\n",
       "      <td>authenticate</td>\n",
       "      <td>0</td>\n",
       "      <td>1.0</td>\n",
       "      <td>/muse/elements/raw_fft0</td>\n",
       "      <td>1515093678</td>\n",
       "      <td>1515093680</td>\n",
       "      <td>v1         v2         v3       ...</td>\n",
       "      <td>0</td>\n",
       "      <td>1</td>\n",
       "    </tr>\n",
       "    <tr>\n",
       "      <th>22</th>\n",
       "      <td>authenticate</td>\n",
       "      <td>0</td>\n",
       "      <td>2.0</td>\n",
       "      <td>/muse/elements/raw_fft0</td>\n",
       "      <td>1515093680</td>\n",
       "      <td>1515093682</td>\n",
       "      <td>v1          v2          v3   ...</td>\n",
       "      <td>0</td>\n",
       "      <td>1</td>\n",
       "    </tr>\n",
       "    <tr>\n",
       "      <th>23</th>\n",
       "      <td>authenticate</td>\n",
       "      <td>0</td>\n",
       "      <td>3.0</td>\n",
       "      <td>/muse/elements/raw_fft0</td>\n",
       "      <td>1515093682</td>\n",
       "      <td>1515093684</td>\n",
       "      <td>v1           v2           v3  ...</td>\n",
       "      <td>0</td>\n",
       "      <td>1</td>\n",
       "    </tr>\n",
       "    <tr>\n",
       "      <th>24</th>\n",
       "      <td>authenticate</td>\n",
       "      <td>0</td>\n",
       "      <td>0.0</td>\n",
       "      <td>/muse/elements/raw_fft1</td>\n",
       "      <td>1515093676</td>\n",
       "      <td>1515093678</td>\n",
       "      <td>v1            v2          v3 ...</td>\n",
       "      <td>0</td>\n",
       "      <td>1</td>\n",
       "    </tr>\n",
       "  </tbody>\n",
       "</table>\n",
       "</div>"
      ],
      "text/plain": [
       "           stage  step  substep                  fft_type       start  \\\n",
       "20  authenticate     0      0.0   /muse/elements/raw_fft0  1515093676   \n",
       "21  authenticate     0      1.0   /muse/elements/raw_fft0  1515093678   \n",
       "22  authenticate     0      2.0   /muse/elements/raw_fft0  1515093680   \n",
       "23  authenticate     0      3.0   /muse/elements/raw_fft0  1515093682   \n",
       "24  authenticate     0      0.0   /muse/elements/raw_fft1  1515093676   \n",
       "\n",
       "           end                                            raw_fft  subject  \\\n",
       "20  1515093678                  v1         v2         v3      ...        0   \n",
       "21  1515093680                 v1         v2         v3       ...        0   \n",
       "22  1515093682                   v1          v2          v3   ...        0   \n",
       "23  1515093684                  v1           v2           v3  ...        0   \n",
       "24  1515093678                   v1            v2          v3 ...        0   \n",
       "\n",
       "    conditions  \n",
       "20           1  \n",
       "21           1  \n",
       "22           1  \n",
       "23           1  \n",
       "24           1  "
      ]
     },
     "execution_count": 15,
     "metadata": {},
     "output_type": "execute_result"
    }
   ],
   "source": [
    "df[df['stage'] =='authenticate'].head()"
   ]
  },
  {
   "cell_type": "code",
   "execution_count": 10,
   "metadata": {
    "collapsed": false
   },
   "outputs": [],
   "source": [
    "cosinedata = []\n",
    "for subjectID in range(len(data)):\n",
    "    for f in ffts:\n",
    "        d = [cos_compare(f,step,subjectID) for step in range(steps[2]) ]\n",
    "        d.append(subjectID)\n",
    "        d.append(f)\n",
    "        cosinedata.append(d) "
   ]
  },
  {
   "cell_type": "code",
   "execution_count": 11,
   "metadata": {
    "collapsed": false
   },
   "outputs": [
    {
     "data": {
      "text/plain": [
       "[1, 3, 4]"
      ]
     },
     "execution_count": 11,
     "metadata": {},
     "output_type": "execute_result"
    }
   ],
   "source": [
    "#cosinedata\n",
    "steps"
   ]
  },
  {
   "cell_type": "code",
   "execution_count": 12,
   "metadata": {
    "collapsed": false
   },
   "outputs": [
    {
     "data": {
      "text/html": [
       "<div>\n",
       "<style>\n",
       "    .dataframe thead tr:only-child th {\n",
       "        text-align: right;\n",
       "    }\n",
       "\n",
       "    .dataframe thead th {\n",
       "        text-align: left;\n",
       "    }\n",
       "\n",
       "    .dataframe tbody tr th {\n",
       "        vertical-align: top;\n",
       "    }\n",
       "</style>\n",
       "<table border=\"1\" class=\"dataframe\">\n",
       "  <thead>\n",
       "    <tr style=\"text-align: right;\">\n",
       "      <th></th>\n",
       "      <th>A1</th>\n",
       "      <th>A2</th>\n",
       "      <th>A3</th>\n",
       "      <th>A4</th>\n",
       "      <th>Subject</th>\n",
       "      <th>fft_type</th>\n",
       "    </tr>\n",
       "  </thead>\n",
       "  <tbody>\n",
       "    <tr>\n",
       "      <th>0</th>\n",
       "      <td>0.083359</td>\n",
       "      <td>0.039856</td>\n",
       "      <td>0.062492</td>\n",
       "      <td>0.050730</td>\n",
       "      <td>0</td>\n",
       "      <td>/muse/elements/raw_fft0</td>\n",
       "    </tr>\n",
       "    <tr>\n",
       "      <th>1</th>\n",
       "      <td>0.007259</td>\n",
       "      <td>0.008642</td>\n",
       "      <td>0.007571</td>\n",
       "      <td>0.007095</td>\n",
       "      <td>0</td>\n",
       "      <td>/muse/elements/raw_fft1</td>\n",
       "    </tr>\n",
       "    <tr>\n",
       "      <th>2</th>\n",
       "      <td>0.015324</td>\n",
       "      <td>0.006995</td>\n",
       "      <td>0.009338</td>\n",
       "      <td>0.008507</td>\n",
       "      <td>0</td>\n",
       "      <td>/muse/elements/raw_fft2</td>\n",
       "    </tr>\n",
       "    <tr>\n",
       "      <th>3</th>\n",
       "      <td>0.083837</td>\n",
       "      <td>0.040649</td>\n",
       "      <td>0.059552</td>\n",
       "      <td>0.051747</td>\n",
       "      <td>0</td>\n",
       "      <td>/muse/elements/raw_fft3</td>\n",
       "    </tr>\n",
       "    <tr>\n",
       "      <th>4</th>\n",
       "      <td>0.125867</td>\n",
       "      <td>0.123437</td>\n",
       "      <td>0.091967</td>\n",
       "      <td>0.120547</td>\n",
       "      <td>1</td>\n",
       "      <td>/muse/elements/raw_fft0</td>\n",
       "    </tr>\n",
       "  </tbody>\n",
       "</table>\n",
       "</div>"
      ],
      "text/plain": [
       "         A1        A2        A3        A4  Subject                  fft_type\n",
       "0  0.083359  0.039856  0.062492  0.050730        0   /muse/elements/raw_fft0\n",
       "1  0.007259  0.008642  0.007571  0.007095        0   /muse/elements/raw_fft1\n",
       "2  0.015324  0.006995  0.009338  0.008507        0   /muse/elements/raw_fft2\n",
       "3  0.083837  0.040649  0.059552  0.051747        0   /muse/elements/raw_fft3\n",
       "4  0.125867  0.123437  0.091967  0.120547        1   /muse/elements/raw_fft0"
      ]
     },
     "execution_count": 12,
     "metadata": {},
     "output_type": "execute_result"
    }
   ],
   "source": [
    "df2 = pd.DataFrame(data=cosinedata, columns=['A1','A2','A3','A4','Subject','fft_type'])\n",
    "df2.head()"
   ]
  },
  {
   "cell_type": "code",
   "execution_count": 13,
   "metadata": {
    "collapsed": false
   },
   "outputs": [],
   "source": [
    "# df3 = df2[['A1','A2','A3','A4']]\n",
    "# plt.figure()\n",
    "# df3.plot(x)\n",
    "\n",
    "# df.apply(lambda row: row['A4']-row['A1'], axis=1)"
   ]
  },
  {
   "cell_type": "code",
   "execution_count": 14,
   "metadata": {
    "collapsed": true
   },
   "outputs": [],
   "source": [
    "#df3.to_csv(\"cosine.csv\")"
   ]
  },
  {
   "cell_type": "code",
   "execution_count": 15,
   "metadata": {
    "collapsed": true
   },
   "outputs": [],
   "source": [
    "df2.to_csv(\"cosine.csv\")"
   ]
  },
  {
   "cell_type": "code",
   "execution_count": null,
   "metadata": {
    "collapsed": true
   },
   "outputs": [],
   "source": []
  }
 ],
 "metadata": {
  "anaconda-cloud": {},
  "kernelspec": {
   "display_name": "Python [Root]",
   "language": "python",
   "name": "Python [Root]"
  },
  "language_info": {
   "codemirror_mode": {
    "name": "ipython",
    "version": 3
   },
   "file_extension": ".py",
   "mimetype": "text/x-python",
   "name": "python",
   "nbconvert_exporter": "python",
   "pygments_lexer": "ipython3",
   "version": "3.5.2"
  }
 },
 "nbformat": 4,
 "nbformat_minor": 0
}
